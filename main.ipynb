{
 "cells": [
  {
   "cell_type": "code",
   "execution_count": 37,
   "metadata": {},
   "outputs": [
    {
     "data": {
      "text/html": [
       "<div>\n",
       "<style scoped>\n",
       "    .dataframe tbody tr th:only-of-type {\n",
       "        vertical-align: middle;\n",
       "    }\n",
       "\n",
       "    .dataframe tbody tr th {\n",
       "        vertical-align: top;\n",
       "    }\n",
       "\n",
       "    .dataframe thead th {\n",
       "        text-align: right;\n",
       "    }\n",
       "</style>\n",
       "<table border=\"1\" class=\"dataframe\">\n",
       "  <thead>\n",
       "    <tr style=\"text-align: right;\">\n",
       "      <th></th>\n",
       "      <th>Word</th>\n",
       "      <th>Org</th>\n",
       "      <th>Score</th>\n",
       "      <th>Deviation</th>\n",
       "      <th>Std</th>\n",
       "      <th>PoS</th>\n",
       "    </tr>\n",
       "  </thead>\n",
       "  <tbody>\n",
       "    <tr>\n",
       "      <th>4630</th>\n",
       "      <td>下書き</td>\n",
       "      <td>下書き</td>\n",
       "      <td>1.97</td>\n",
       "      <td>55.41</td>\n",
       "      <td>1.08</td>\n",
       "      <td>名詞</td>\n",
       "    </tr>\n",
       "    <tr>\n",
       "      <th>12767</th>\n",
       "      <td>味わえる</td>\n",
       "      <td>味わえる</td>\n",
       "      <td>2.70</td>\n",
       "      <td>40.27</td>\n",
       "      <td>1.24</td>\n",
       "      <td>動詞</td>\n",
       "    </tr>\n",
       "    <tr>\n",
       "      <th>14975</th>\n",
       "      <td>概念</td>\n",
       "      <td>概念</td>\n",
       "      <td>3.27</td>\n",
       "      <td>28.57</td>\n",
       "      <td>1.29</td>\n",
       "      <td>名詞</td>\n",
       "    </tr>\n",
       "    <tr>\n",
       "      <th>13805</th>\n",
       "      <td>ベーシック</td>\n",
       "      <td>ベーシック</td>\n",
       "      <td>2.87</td>\n",
       "      <td>36.83</td>\n",
       "      <td>1.48</td>\n",
       "      <td>名詞</td>\n",
       "    </tr>\n",
       "    <tr>\n",
       "      <th>13174</th>\n",
       "      <td>ねたい</td>\n",
       "      <td>ねたい</td>\n",
       "      <td>2.77</td>\n",
       "      <td>38.90</td>\n",
       "      <td>1.12</td>\n",
       "      <td>形容詞</td>\n",
       "    </tr>\n",
       "  </tbody>\n",
       "</table>\n",
       "</div>"
      ],
      "text/plain": [
       "        Word    Org  Score  Deviation   Std  PoS\n",
       "4630     下書き    下書き   1.97      55.41  1.08   名詞\n",
       "12767   味わえる   味わえる   2.70      40.27  1.24   動詞\n",
       "14975     概念     概念   3.27      28.57  1.29   名詞\n",
       "13805  ベーシック  ベーシック   2.87      36.83  1.48   名詞\n",
       "13174    ねたい    ねたい   2.77      38.90  1.12  形容詞"
      ]
     },
     "execution_count": 37,
     "metadata": {},
     "output_type": "execute_result"
    }
   ],
   "source": [
    "import pandas as pd\n",
    "from openai import OpenAI\n",
    "from dotenv import load_dotenv\n",
    "load_dotenv()\n",
    "df = pd.read_csv('AWD-J.txt',sep=\"\\t\")\n",
    "\n",
    "df.sample(5)"
   ]
  },
  {
   "cell_type": "code",
   "execution_count": 38,
   "metadata": {},
   "outputs": [
    {
     "data": {
      "text/html": [
       "<div>\n",
       "<style scoped>\n",
       "    .dataframe tbody tr th:only-of-type {\n",
       "        vertical-align: middle;\n",
       "    }\n",
       "\n",
       "    .dataframe tbody tr th {\n",
       "        vertical-align: top;\n",
       "    }\n",
       "\n",
       "    .dataframe thead th {\n",
       "        text-align: right;\n",
       "    }\n",
       "</style>\n",
       "<table border=\"1\" class=\"dataframe\">\n",
       "  <thead>\n",
       "    <tr style=\"text-align: right;\">\n",
       "      <th></th>\n",
       "      <th>Word</th>\n",
       "      <th>Org</th>\n",
       "      <th>Score</th>\n",
       "      <th>Deviation</th>\n",
       "      <th>Std</th>\n",
       "      <th>PoS</th>\n",
       "      <th>integer_part</th>\n",
       "    </tr>\n",
       "  </thead>\n",
       "  <tbody>\n",
       "    <tr>\n",
       "      <th>10060</th>\n",
       "      <td>佐川</td>\n",
       "      <td>佐川</td>\n",
       "      <td>2.43</td>\n",
       "      <td>45.78</td>\n",
       "      <td>1.15</td>\n",
       "      <td>名詞</td>\n",
       "      <td>2.0</td>\n",
       "    </tr>\n",
       "    <tr>\n",
       "      <th>483</th>\n",
       "      <td>座布団</td>\n",
       "      <td>座布団</td>\n",
       "      <td>1.37</td>\n",
       "      <td>67.80</td>\n",
       "      <td>0.71</td>\n",
       "      <td>名詞</td>\n",
       "      <td>1.0</td>\n",
       "    </tr>\n",
       "    <tr>\n",
       "      <th>12565</th>\n",
       "      <td>お陰</td>\n",
       "      <td>お陰</td>\n",
       "      <td>2.70</td>\n",
       "      <td>40.27</td>\n",
       "      <td>1.29</td>\n",
       "      <td>名詞</td>\n",
       "      <td>2.0</td>\n",
       "    </tr>\n",
       "    <tr>\n",
       "      <th>5103</th>\n",
       "      <td>松井</td>\n",
       "      <td>松井</td>\n",
       "      <td>2.00</td>\n",
       "      <td>54.72</td>\n",
       "      <td>1.37</td>\n",
       "      <td>名詞</td>\n",
       "      <td>2.0</td>\n",
       "    </tr>\n",
       "    <tr>\n",
       "      <th>11196</th>\n",
       "      <td>crazy</td>\n",
       "      <td>crazy</td>\n",
       "      <td>2.53</td>\n",
       "      <td>43.71</td>\n",
       "      <td>1.20</td>\n",
       "      <td>名詞</td>\n",
       "      <td>2.0</td>\n",
       "    </tr>\n",
       "  </tbody>\n",
       "</table>\n",
       "</div>"
      ],
      "text/plain": [
       "        Word    Org  Score  Deviation   Std PoS  integer_part\n",
       "10060     佐川     佐川   2.43      45.78  1.15  名詞           2.0\n",
       "483      座布団    座布団   1.37      67.80  0.71  名詞           1.0\n",
       "12565     お陰     お陰   2.70      40.27  1.29  名詞           2.0\n",
       "5103      松井     松井   2.00      54.72  1.37  名詞           2.0\n",
       "11196  crazy  crazy   2.53      43.71  1.20  名詞           2.0"
      ]
     },
     "execution_count": 38,
     "metadata": {},
     "output_type": "execute_result"
    }
   ],
   "source": [
    "import math\n",
    "\n",
    "\n",
    "df[\"integer_part\"] = df[\"Score\"].apply(lambda x: math.modf(x)[1])\n",
    "df.sample(5)"
   ]
  },
  {
   "cell_type": "code",
   "execution_count": 39,
   "metadata": {},
   "outputs": [
    {
     "data": {
      "text/plain": [
       "[   Word   Org  Score  Deviation   Std PoS  integer_part\n",
       " 0   東京都   東京都   1.00      75.37  0.00  名詞           1.0\n",
       " 1  稲川淳二  稲川淳二   1.00      75.37  0.00  名詞           1.0\n",
       " 2  椎名林檎  椎名林檎   1.03      74.68  0.18  名詞           1.0,\n",
       "      Word Org  Score  Deviation   Std PoS  integer_part\n",
       " 4825    曲   曲    2.0      54.72  0.89  名詞           2.0\n",
       " 4826   香り  香り    2.0      54.72  1.15  名詞           2.0\n",
       " 4827   敬遠  敬遠    2.0      54.72  0.97  名詞           2.0,\n",
       "       Word  Org  Score  Deviation   Std PoS  integer_part\n",
       " 14334  ﾁﾗｯ  ﾁﾗｯ    3.0      34.08  1.32  名詞           3.0\n",
       " 14335  うめー  うめー    3.0      34.08  1.57  名詞           3.0\n",
       " 14336   次元   次元    3.0      34.08  1.41  名詞           3.0,\n",
       "        Word   Org  Score  Deviation   Std PoS  integer_part\n",
       " 15219  ホンワカ  ホンワカ   4.13      10.68  1.06  名詞           4.0]"
      ]
     },
     "execution_count": 39,
     "metadata": {},
     "output_type": "execute_result"
    }
   ],
   "source": [
    "unique_integer_paths = df[\"integer_part\"].unique()\n",
    "samples_by_integer_part = []\n",
    "\n",
    "for score in unique_integer_paths:\n",
    "    samples_by_integer_part.append(df[df[\"integer_part\"] == score].head(3))\n",
    "\n",
    "samples_by_integer_part"
   ]
  },
  {
   "cell_type": "code",
   "execution_count": 40,
   "metadata": {},
   "outputs": [],
   "source": [
    "def df_to_prompt_example(df):\n",
    "    return f\"{df[\"Word\"].iloc[0]}: f{df[\"Score\"].iloc[0]}\\n\"\n"
   ]
  },
  {
   "cell_type": "code",
   "execution_count": 41,
   "metadata": {},
   "outputs": [
    {
     "data": {
      "text/plain": [
       "'\\nあなたは言葉の抽象度を評価するアシスタントです。\\nユーザが提供したことの抽象度を判断してください。\\n以下を参考にしてください。\\n東京都: f1.0\\n曲: f2.0\\nﾁﾗｯ: f3.0\\nホンワカ: f4.13\\n\\n\\nかならず以下のフォーマットに従ってください。\\nword: score\\n'"
      ]
     },
     "execution_count": 41,
     "metadata": {},
     "output_type": "execute_result"
    }
   ],
   "source": [
    "prompt_example = \"\"\n",
    "for df in samples_by_integer_part:\n",
    "    prompt_example += df_to_prompt_example(df)\n",
    "prompt = f\"\"\"\n",
    "あなたは言葉の抽象度を評価するアシスタントです。\n",
    "ユーザが提供したことの抽象度を判断してください。\n",
    "以下を参考にしてください。\n",
    "{prompt_example}\n",
    "\n",
    "かならず以下のフォーマットに従ってください。\n",
    "word: score\n",
    "\"\"\"\n",
    "\n",
    "prompt"
   ]
  },
  {
   "cell_type": "code",
   "execution_count": 42,
   "metadata": {},
   "outputs": [
    {
     "data": {
      "text/plain": [
       "'積極的なコミュニケーション: f2.5\\n職位の壁を超えたコミュニケーション: f2.7'"
      ]
     },
     "execution_count": 42,
     "metadata": {},
     "output_type": "execute_result"
    }
   ],
   "source": [
    "client = OpenAI()\n",
    "response = client.chat.completions.create(\n",
    "    model=\"gpt-4-turbo-preview\",\n",
    "    messages=[\n",
    "        {\"role\": \"system\", \"content\": prompt},\n",
    "        {\"role\": \"user\", \"content\":\"積極的なコミュニケーション,職位の壁を超えたコミュにケーション\"}])\n",
    "\n",
    "response.choices[0].message.content\n",
    "\n"
   ]
  }
 ],
 "metadata": {
  "kernelspec": {
   "display_name": ".venv",
   "language": "python",
   "name": "python3"
  },
  "language_info": {
   "codemirror_mode": {
    "name": "ipython",
    "version": 3
   },
   "file_extension": ".py",
   "mimetype": "text/x-python",
   "name": "python",
   "nbconvert_exporter": "python",
   "pygments_lexer": "ipython3",
   "version": "3.12.2"
  }
 },
 "nbformat": 4,
 "nbformat_minor": 2
}
