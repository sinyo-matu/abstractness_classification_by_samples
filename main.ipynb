{
 "cells": [
  {
   "cell_type": "code",
   "execution_count": 192,
   "metadata": {},
   "outputs": [
    {
     "data": {
      "text/html": [
       "<div>\n",
       "<style scoped>\n",
       "    .dataframe tbody tr th:only-of-type {\n",
       "        vertical-align: middle;\n",
       "    }\n",
       "\n",
       "    .dataframe tbody tr th {\n",
       "        vertical-align: top;\n",
       "    }\n",
       "\n",
       "    .dataframe thead th {\n",
       "        text-align: right;\n",
       "    }\n",
       "</style>\n",
       "<table border=\"1\" class=\"dataframe\">\n",
       "  <thead>\n",
       "    <tr style=\"text-align: right;\">\n",
       "      <th></th>\n",
       "      <th>Word</th>\n",
       "      <th>Org</th>\n",
       "      <th>Score</th>\n",
       "      <th>Deviation</th>\n",
       "      <th>Std</th>\n",
       "      <th>PoS</th>\n",
       "    </tr>\n",
       "  </thead>\n",
       "  <tbody>\n",
       "    <tr>\n",
       "      <th>1055</th>\n",
       "      <td>クローズアップ現代</td>\n",
       "      <td>クローズアップ現代</td>\n",
       "      <td>1.50</td>\n",
       "      <td>65.05</td>\n",
       "      <td>0.92</td>\n",
       "      <td>名詞</td>\n",
       "    </tr>\n",
       "    <tr>\n",
       "      <th>9593</th>\n",
       "      <td>hit</td>\n",
       "      <td>hit</td>\n",
       "      <td>2.40</td>\n",
       "      <td>46.47</td>\n",
       "      <td>1.33</td>\n",
       "      <td>名詞</td>\n",
       "    </tr>\n",
       "    <tr>\n",
       "      <th>11035</th>\n",
       "      <td>歴代</td>\n",
       "      <td>歴代</td>\n",
       "      <td>2.53</td>\n",
       "      <td>43.71</td>\n",
       "      <td>1.50</td>\n",
       "      <td>名詞</td>\n",
       "    </tr>\n",
       "    <tr>\n",
       "      <th>9991</th>\n",
       "      <td>天神</td>\n",
       "      <td>天神</td>\n",
       "      <td>2.43</td>\n",
       "      <td>45.78</td>\n",
       "      <td>1.15</td>\n",
       "      <td>名詞</td>\n",
       "    </tr>\n",
       "    <tr>\n",
       "      <th>2308</th>\n",
       "      <td>新番組</td>\n",
       "      <td>新番組</td>\n",
       "      <td>1.70</td>\n",
       "      <td>60.92</td>\n",
       "      <td>0.78</td>\n",
       "      <td>名詞</td>\n",
       "    </tr>\n",
       "  </tbody>\n",
       "</table>\n",
       "</div>"
      ],
      "text/plain": [
       "            Word        Org  Score  Deviation   Std PoS\n",
       "1055   クローズアップ現代  クローズアップ現代   1.50      65.05  0.92  名詞\n",
       "9593         hit        hit   2.40      46.47  1.33  名詞\n",
       "11035         歴代         歴代   2.53      43.71  1.50  名詞\n",
       "9991          天神         天神   2.43      45.78  1.15  名詞\n",
       "2308         新番組        新番組   1.70      60.92  0.78  名詞"
      ]
     },
     "execution_count": 192,
     "metadata": {},
     "output_type": "execute_result"
    }
   ],
   "source": [
    "import pandas as pd\n",
    "from openai import OpenAI\n",
    "from dotenv import load_dotenv\n",
    "load_dotenv()\n",
    "df = pd.read_csv('AWD-J.txt',sep=\"\\t\")\n",
    "\n",
    "df.sample(5)"
   ]
  },
  {
   "cell_type": "code",
   "execution_count": 193,
   "metadata": {},
   "outputs": [
    {
     "data": {
      "text/html": [
       "<div>\n",
       "<style scoped>\n",
       "    .dataframe tbody tr th:only-of-type {\n",
       "        vertical-align: middle;\n",
       "    }\n",
       "\n",
       "    .dataframe tbody tr th {\n",
       "        vertical-align: top;\n",
       "    }\n",
       "\n",
       "    .dataframe thead th {\n",
       "        text-align: right;\n",
       "    }\n",
       "</style>\n",
       "<table border=\"1\" class=\"dataframe\">\n",
       "  <thead>\n",
       "    <tr style=\"text-align: right;\">\n",
       "      <th></th>\n",
       "      <th>Word</th>\n",
       "      <th>Org</th>\n",
       "      <th>Score</th>\n",
       "      <th>Deviation</th>\n",
       "      <th>Std</th>\n",
       "      <th>PoS</th>\n",
       "      <th>integer_part</th>\n",
       "    </tr>\n",
       "  </thead>\n",
       "  <tbody>\n",
       "    <tr>\n",
       "      <th>357</th>\n",
       "      <td>ドーナツ</td>\n",
       "      <td>ドーナツ</td>\n",
       "      <td>1.33</td>\n",
       "      <td>68.49</td>\n",
       "      <td>0.60</td>\n",
       "      <td>名詞</td>\n",
       "      <td>1.0</td>\n",
       "    </tr>\n",
       "    <tr>\n",
       "      <th>6736</th>\n",
       "      <td>まんが</td>\n",
       "      <td>まんが</td>\n",
       "      <td>2.17</td>\n",
       "      <td>51.28</td>\n",
       "      <td>1.27</td>\n",
       "      <td>名詞</td>\n",
       "      <td>2.0</td>\n",
       "    </tr>\n",
       "    <tr>\n",
       "      <th>10158</th>\n",
       "      <td>北斗</td>\n",
       "      <td>北斗</td>\n",
       "      <td>2.47</td>\n",
       "      <td>45.09</td>\n",
       "      <td>1.06</td>\n",
       "      <td>名詞</td>\n",
       "      <td>2.0</td>\n",
       "    </tr>\n",
       "    <tr>\n",
       "      <th>14246</th>\n",
       "      <td>万が一</td>\n",
       "      <td>万が一</td>\n",
       "      <td>2.97</td>\n",
       "      <td>34.77</td>\n",
       "      <td>1.30</td>\n",
       "      <td>名詞</td>\n",
       "      <td>2.0</td>\n",
       "    </tr>\n",
       "    <tr>\n",
       "      <th>435</th>\n",
       "      <td>豚</td>\n",
       "      <td>豚</td>\n",
       "      <td>1.33</td>\n",
       "      <td>68.49</td>\n",
       "      <td>0.54</td>\n",
       "      <td>名詞</td>\n",
       "      <td>1.0</td>\n",
       "    </tr>\n",
       "  </tbody>\n",
       "</table>\n",
       "</div>"
      ],
      "text/plain": [
       "       Word   Org  Score  Deviation   Std PoS  integer_part\n",
       "357    ドーナツ  ドーナツ   1.33      68.49  0.60  名詞           1.0\n",
       "6736    まんが   まんが   2.17      51.28  1.27  名詞           2.0\n",
       "10158    北斗    北斗   2.47      45.09  1.06  名詞           2.0\n",
       "14246   万が一   万が一   2.97      34.77  1.30  名詞           2.0\n",
       "435       豚     豚   1.33      68.49  0.54  名詞           1.0"
      ]
     },
     "execution_count": 193,
     "metadata": {},
     "output_type": "execute_result"
    }
   ],
   "source": [
    "import math\n",
    "\n",
    "\n",
    "df[\"integer_part\"] = df[\"Score\"].apply(lambda x: math.modf(x)[1])\n",
    "df.sample(5)"
   ]
  },
  {
   "cell_type": "code",
   "execution_count": 194,
   "metadata": {},
   "outputs": [
    {
     "data": {
      "text/plain": [
       "[     Word  Org  Score  Deviation   Std PoS  integer_part\n",
       " 1843  あずき  あずき   1.63      62.29  1.08  名詞           1.0,\n",
       "      Word Org  Score  Deviation  Std PoS  integer_part\n",
       " 5391   放映  放映   2.03      54.04  1.2  名詞           2.0,\n",
       "       Word Org  Score  Deviation   Std PoS  integer_part\n",
       " 14989   ヤバ  ヤバ   3.27      28.57  1.03  名詞           3.0,\n",
       "        Word   Org  Score  Deviation   Std PoS  integer_part\n",
       " 15219  ホンワカ  ホンワカ   4.13      10.68  1.06  名詞           4.0]"
      ]
     },
     "execution_count": 194,
     "metadata": {},
     "output_type": "execute_result"
    }
   ],
   "source": [
    "unique_integer_paths = df[\"integer_part\"].unique()\n",
    "samples_by_integer_part = []\n",
    "\n",
    "for score in unique_integer_paths:\n",
    "    samples_by_integer_part.append(df[df[\"integer_part\"] == score].sample(1,replace=True))\n",
    "\n",
    "samples_by_integer_part"
   ]
  },
  {
   "cell_type": "code",
   "execution_count": 195,
   "metadata": {},
   "outputs": [],
   "source": [
    "def df_to_prompt_example(df):\n",
    "    return f\"{df[\"Word\"].iloc[0]}: f{df[\"Score\"].iloc[0]}\\n\"\n"
   ]
  },
  {
   "cell_type": "code",
   "execution_count": 196,
   "metadata": {},
   "outputs": [
    {
     "data": {
      "text/plain": [
       "'\\nあなたは言葉の抽象度を評価するアシスタントです。\\nユーザが提供したことの抽象度を判断してください。\\n以下を参考にしてください。\\nあずき: f1.63\\n放映: f2.03\\nヤバ: f3.27\\nホンワカ: f4.13\\n\\n\\nかならず以下のフォーマットに従ってください。\\nword: score\\n'"
      ]
     },
     "execution_count": 196,
     "metadata": {},
     "output_type": "execute_result"
    }
   ],
   "source": [
    "prompt_example = \"\"\n",
    "for df in samples_by_integer_part:\n",
    "    prompt_example += df_to_prompt_example(df)\n",
    "prompt = f\"\"\"\n",
    "あなたは言葉の抽象度を評価するアシスタントです。\n",
    "ユーザが提供したことの抽象度を判断してください。\n",
    "以下を参考にしてください。\n",
    "{prompt_example}\n",
    "\n",
    "かならず以下のフォーマットに従ってください。\n",
    "word: score\n",
    "\"\"\"\n",
    "\n",
    "prompt"
   ]
  },
  {
   "cell_type": "code",
   "execution_count": 197,
   "metadata": {},
   "outputs": [
    {
     "data": {
      "text/plain": [
       "'積極的なコミュニケーション: f4.56\\n職位の壁を超えたコミュニケーション: f4.72'"
      ]
     },
     "execution_count": 197,
     "metadata": {},
     "output_type": "execute_result"
    }
   ],
   "source": [
    "client = OpenAI()\n",
    "response = client.chat.completions.create(\n",
    "    model=\"gpt-4-turbo-preview\",\n",
    "    messages=[\n",
    "        {\"role\": \"system\", \"content\": prompt},\n",
    "        {\"role\": \"user\", \"content\":\"積極的なコミュニケーション,職位の壁を超えたコミュにケーション\"}])\n",
    "\n",
    "response.choices[0].message.content\n",
    "\n"
   ]
  }
 ],
 "metadata": {
  "kernelspec": {
   "display_name": ".venv",
   "language": "python",
   "name": "python3"
  },
  "language_info": {
   "codemirror_mode": {
    "name": "ipython",
    "version": 3
   },
   "file_extension": ".py",
   "mimetype": "text/x-python",
   "name": "python",
   "nbconvert_exporter": "python",
   "pygments_lexer": "ipython3",
   "version": "3.12.2"
  }
 },
 "nbformat": 4,
 "nbformat_minor": 2
}
